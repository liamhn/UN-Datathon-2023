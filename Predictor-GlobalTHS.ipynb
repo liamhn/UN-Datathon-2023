{
 "cells": [
  {
   "cell_type": "code",
   "execution_count": 1,
   "metadata": {},
   "outputs": [],
   "source": [
    "import keras\n",
    "from keras.models import load_model\n",
    "from numpy import *\n",
    "import numpy as np\n",
    "\n",
    "import pandas as pd\n",
    "from pylab import *"
   ]
  },
  {
   "cell_type": "code",
   "execution_count": 2,
   "metadata": {},
   "outputs": [],
   "source": [
    "# Load in the model\n",
    "ths = load_model('models/ths1_val-loss_9.3.keras')\n",
    "\n",
    "# Load in the global weather data ths\n",
    "df = pd.read_csv('pred_20231105_anl_ths.csv')\n",
    "#Convert to km/h (if needed)\n",
    "df[\"s\"]*=3.6\n",
    "# get the predictor featrures\n",
    "pred_features = df[['t','h','s']].to_numpy()\n",
    "\n",
    "#Predict labels\n",
    "pred_labels = ths.predict(pred_features)\n",
    "\n",
    "#Assign labels to the DF\n",
    "df['ths'] = pred_labels\n",
    "#df.to_csv('pred_20231105_anl_ths_with_ths.csv')"
   ]
  },
  {
   "cell_type": "code",
   "execution_count": 11,
   "metadata": {},
   "outputs": [],
   "source": []
  },
  {
   "cell_type": "code",
   "execution_count": 27,
   "metadata": {},
   "outputs": [],
   "source": []
  },
  {
   "cell_type": "code",
   "execution_count": 30,
   "metadata": {},
   "outputs": [],
   "source": []
  },
  {
   "cell_type": "code",
   "execution_count": null,
   "metadata": {},
   "outputs": [],
   "source": []
  },
  {
   "cell_type": "code",
   "execution_count": null,
   "metadata": {},
   "outputs": [],
   "source": []
  },
  {
   "cell_type": "code",
   "execution_count": null,
   "metadata": {},
   "outputs": [],
   "source": []
  },
  {
   "cell_type": "code",
   "execution_count": null,
   "metadata": {},
   "outputs": [],
   "source": []
  }
 ],
 "metadata": {
  "kernelspec": {
   "display_name": "Python 3",
   "language": "python",
   "name": "python3"
  },
  "language_info": {
   "codemirror_mode": {
    "name": "ipython",
    "version": 3
   },
   "file_extension": ".py",
   "mimetype": "text/x-python",
   "name": "python",
   "nbconvert_exporter": "python",
   "pygments_lexer": "ipython3",
   "version": "3.8.5"
  }
 },
 "nbformat": 4,
 "nbformat_minor": 4
}
